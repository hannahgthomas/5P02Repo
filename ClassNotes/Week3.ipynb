{
 "cells": [
  {
   "cell_type": "code",
   "execution_count": 2,
   "id": "a958cab7-ed35-4489-8593-90ebc59618bb",
   "metadata": {},
   "outputs": [
    {
     "name": "stdout",
     "output_type": "stream",
     "text": [
      "hello world\n",
      "another line\n"
     ]
    }
   ],
   "source": [
    "print('hello world')\n",
    "print('another line')"
   ]
  },
  {
   "cell_type": "code",
   "execution_count": 3,
   "id": "118a98e9-5d6b-426c-bb46-816d454fb1e8",
   "metadata": {},
   "outputs": [
    {
     "data": {
      "text/plain": [
       "2"
      ]
     },
     "execution_count": 3,
     "metadata": {},
     "output_type": "execute_result"
    }
   ],
   "source": [
    "1 + 1"
   ]
  },
  {
   "cell_type": "markdown",
   "id": "98fa98cb-c44b-471c-83fe-28eb643cf859",
   "metadata": {},
   "source": [
    "## This next section we will be doing more print command stuff"
   ]
  },
  {
   "cell_type": "code",
   "execution_count": 4,
   "id": "a7c71193-5ef7-4d42-8fd2-28a416bc9e4f",
   "metadata": {},
   "outputs": [
    {
     "name": "stdout",
     "output_type": "stream",
     "text": [
      "2\n"
     ]
    }
   ],
   "source": [
    "print(1+1)"
   ]
  },
  {
   "cell_type": "code",
   "execution_count": 5,
   "id": "5a8312bc-9265-41a9-a402-1cac5963cfe4",
   "metadata": {},
   "outputs": [
    {
     "name": "stdout",
     "output_type": "stream",
     "text": [
      "1+1\n"
     ]
    }
   ],
   "source": [
    "print('1+1')"
   ]
  },
  {
   "cell_type": "markdown",
   "id": "e12fc877-9ade-432a-9748-9fcae7e3f7e1",
   "metadata": {},
   "source": [
    "#### print(1+1) is a function, whereas print ('1+1') prints the string"
   ]
  },
  {
   "cell_type": "code",
   "execution_count": 6,
   "id": "267cfb70-69c0-48b4-8d01-0dcf982dea36",
   "metadata": {},
   "outputs": [
    {
     "name": "stdout",
     "output_type": "stream",
     "text": [
      "hello world\n"
     ]
    }
   ],
   "source": [
    "print('hello world')"
   ]
  },
  {
   "cell_type": "code",
   "execution_count": 7,
   "id": "2ab02e76-4255-4661-92ac-2c4d828fbc38",
   "metadata": {},
   "outputs": [
    {
     "name": "stdout",
     "output_type": "stream",
     "text": [
      "Help on built-in function print in module builtins:\n",
      "\n",
      "print(*args, sep=' ', end='\\n', file=None, flush=False)\n",
      "    Prints the values to a stream, or to sys.stdout by default.\n",
      "\n",
      "    sep\n",
      "      string inserted between values, default a space.\n",
      "    end\n",
      "      string appended after the last value, default a newline.\n",
      "    file\n",
      "      a file-like object (stream); defaults to the current sys.stdout.\n",
      "    flush\n",
      "      whether to forcibly flush the stream.\n",
      "\n"
     ]
    }
   ],
   "source": [
    "help(print)"
   ]
  },
  {
   "cell_type": "markdown",
   "id": "8acf6d08-5cd4-45e7-8d12-8c2cff551af1",
   "metadata": {},
   "source": [
    "help() function is like the manual from wsl"
   ]
  },
  {
   "cell_type": "markdown",
   "id": "0b80c273-0084-47dd-9030-7d7ee031b427",
   "metadata": {},
   "source": [
    "variables are placeholders for storing data values\n",
    "wow"
   ]
  },
  {
   "cell_type": "code",
   "execution_count": 8,
   "id": "144c6965-1021-4e0f-ae19-23d6324063c1",
   "metadata": {},
   "outputs": [],
   "source": [
    "x = 1 + 1\n",
    "text = 'hello world'"
   ]
  },
  {
   "cell_type": "code",
   "execution_count": 9,
   "id": "2079dd5d-8533-4e1d-8e68-ce5be67fe8bb",
   "metadata": {},
   "outputs": [
    {
     "data": {
      "text/plain": [
       "2"
      ]
     },
     "execution_count": 9,
     "metadata": {},
     "output_type": "execute_result"
    }
   ],
   "source": [
    "x"
   ]
  },
  {
   "cell_type": "code",
   "execution_count": 10,
   "id": "65a7c659-5b5f-42ae-908b-cecff9fe43e8",
   "metadata": {},
   "outputs": [
    {
     "data": {
      "text/plain": [
       "'hello world'"
      ]
     },
     "execution_count": 10,
     "metadata": {},
     "output_type": "execute_result"
    }
   ],
   "source": [
    "text"
   ]
  },
  {
   "cell_type": "code",
   "execution_count": 12,
   "id": "a8f9d203-899b-4836-be45-f40d320f0bb4",
   "metadata": {},
   "outputs": [],
   "source": [
    "a, b, c = 1, 2, 3"
   ]
  },
  {
   "cell_type": "code",
   "execution_count": 14,
   "id": "0304ac2d-78d1-4b5c-bbac-2722939191f3",
   "metadata": {},
   "outputs": [],
   "source": [
    "x = y = z = 10"
   ]
  },
  {
   "cell_type": "code",
   "execution_count": 15,
   "id": "4a0d3fc7-4ec5-4fe0-8b32-3c0a9175fc0c",
   "metadata": {},
   "outputs": [
    {
     "data": {
      "text/plain": [
       "3"
      ]
     },
     "execution_count": 15,
     "metadata": {},
     "output_type": "execute_result"
    }
   ],
   "source": [
    "a + b"
   ]
  },
  {
   "cell_type": "code",
   "execution_count": 16,
   "id": "fd7ae89e-9170-43d1-9f2c-5dd0e5a1803f",
   "metadata": {},
   "outputs": [
    {
     "ename": "TypeError",
     "evalue": "can only concatenate str (not \"int\") to str",
     "output_type": "error",
     "traceback": [
      "\u001b[1;31m---------------------------------------------------------------------------\u001b[0m",
      "\u001b[1;31mTypeError\u001b[0m                                 Traceback (most recent call last)",
      "Cell \u001b[1;32mIn[16], line 1\u001b[0m\n\u001b[1;32m----> 1\u001b[0m \u001b[38;5;124m'\u001b[39m\u001b[38;5;124mhello\u001b[39m\u001b[38;5;124m'\u001b[39m \u001b[38;5;241m+\u001b[39m x\n",
      "\u001b[1;31mTypeError\u001b[0m: can only concatenate str (not \"int\") to str"
     ]
    }
   ],
   "source": [
    "'hello' + x"
   ]
  },
  {
   "cell_type": "markdown",
   "id": "39b3df9c-cc05-4864-ba7b-5c65215f35be",
   "metadata": {},
   "source": [
    "we cannot combine variables of two types = stri and integer"
   ]
  },
  {
   "cell_type": "code",
   "execution_count": 17,
   "id": "69639839-40d8-48aa-a646-cb92751c05a5",
   "metadata": {},
   "outputs": [
    {
     "data": {
      "text/plain": [
       "'ab'"
      ]
     },
     "execution_count": 17,
     "metadata": {},
     "output_type": "execute_result"
    }
   ],
   "source": [
    "'a' + 'b'"
   ]
  },
  {
   "cell_type": "code",
   "execution_count": 18,
   "id": "68debdfc-4d09-45cb-9f1e-2aff61db6d13",
   "metadata": {},
   "outputs": [
    {
     "data": {
      "text/plain": [
       "int"
      ]
     },
     "execution_count": 18,
     "metadata": {},
     "output_type": "execute_result"
    }
   ],
   "source": [
    "type(x)"
   ]
  },
  {
   "cell_type": "code",
   "execution_count": 19,
   "id": "f7eb9a63-e258-4acc-9d56-05a0cf2b2a2e",
   "metadata": {},
   "outputs": [
    {
     "data": {
      "text/plain": [
       "str"
      ]
     },
     "execution_count": 19,
     "metadata": {},
     "output_type": "execute_result"
    }
   ],
   "source": [
    "x = 'some text'\n",
    "type(x)"
   ]
  },
  {
   "cell_type": "markdown",
   "id": "a98aff8a-3a27-49e8-9a53-69f728c8cf1a",
   "metadata": {},
   "source": [
    "error messages are important - tells us which line our problem is, and tells us something about the type of error"
   ]
  },
  {
   "cell_type": "code",
   "execution_count": 20,
   "id": "20dbfb7b-b74f-487c-b9ea-50adbb0b28c3",
   "metadata": {},
   "outputs": [
    {
     "ename": "SyntaxError",
     "evalue": "invalid syntax (2065419873.py, line 1)",
     "output_type": "error",
     "traceback": [
      "\u001b[1;36m  Cell \u001b[1;32mIn[20], line 1\u001b[1;36m\u001b[0m\n\u001b[1;33m    x = 1 + 1:\u001b[0m\n\u001b[1;37m             ^\u001b[0m\n\u001b[1;31mSyntaxError\u001b[0m\u001b[1;31m:\u001b[0m invalid syntax\n"
     ]
    }
   ],
   "source": [
    "x = 1 + 1:"
   ]
  },
  {
   "cell_type": "markdown",
   "id": "ff4d37d3-c88f-43cc-b465-2509f5576341",
   "metadata": {},
   "source": [
    "syntax error, like an language error"
   ]
  },
  {
   "cell_type": "code",
   "execution_count": 21,
   "id": "bda51182-cee2-470e-9652-954f57d363f1",
   "metadata": {},
   "outputs": [
    {
     "ename": "NameError",
     "evalue": "name 'myVar' is not defined",
     "output_type": "error",
     "traceback": [
      "\u001b[1;31m---------------------------------------------------------------------------\u001b[0m",
      "\u001b[1;31mNameError\u001b[0m                                 Traceback (most recent call last)",
      "Cell \u001b[1;32mIn[21], line 1\u001b[0m\n\u001b[1;32m----> 1\u001b[0m \u001b[38;5;28mprint\u001b[39m(myVar)\n",
      "\u001b[1;31mNameError\u001b[0m: name 'myVar' is not defined"
     ]
    }
   ],
   "source": [
    "print(myVar)"
   ]
  },
  {
   "cell_type": "markdown",
   "id": "2d18e5f2-8bad-4eb0-b375-2d05ce55df85",
   "metadata": {},
   "source": [
    "myVar does not exist, we have not defined this yet. Most of our errors will be name errors"
   ]
  },
  {
   "cell_type": "code",
   "execution_count": 22,
   "id": "6f21cc9e-c32d-4715-b91d-bb1752b2af40",
   "metadata": {},
   "outputs": [],
   "source": [
    "del(x)"
   ]
  },
  {
   "cell_type": "markdown",
   "id": "977874a9-db47-4a6e-a523-9fc4db7533c6",
   "metadata": {},
   "source": [
    "del removes variables"
   ]
  },
  {
   "cell_type": "code",
   "execution_count": 23,
   "id": "2af396ee-00b9-4b9a-932c-2a12e724610b",
   "metadata": {},
   "outputs": [
    {
     "ename": "NameError",
     "evalue": "name 'x' is not defined",
     "output_type": "error",
     "traceback": [
      "\u001b[1;31m---------------------------------------------------------------------------\u001b[0m",
      "\u001b[1;31mNameError\u001b[0m                                 Traceback (most recent call last)",
      "Cell \u001b[1;32mIn[23], line 1\u001b[0m\n\u001b[1;32m----> 1\u001b[0m \u001b[38;5;28mprint\u001b[39m(x)\n",
      "\u001b[1;31mNameError\u001b[0m: name 'x' is not defined"
     ]
    }
   ],
   "source": [
    "print(x)"
   ]
  },
  {
   "cell_type": "code",
   "execution_count": 24,
   "id": "260581ad-8703-4f5f-b48e-97558aed9730",
   "metadata": {},
   "outputs": [
    {
     "data": {
      "text/plain": [
       "'C:\\\\Users\\\\thomh\\\\anaconda_projects\\\\1f070020-b100-4e5a-bb22-5c73d8ac0f37'"
      ]
     },
     "execution_count": 24,
     "metadata": {},
     "output_type": "execute_result"
    }
   ],
   "source": [
    "pwd"
   ]
  },
  {
   "cell_type": "code",
   "execution_count": 25,
   "id": "3e6ef3a9-52dc-4275-a38f-2b2ae07c039a",
   "metadata": {},
   "outputs": [],
   "source": [
    "myInt = 111"
   ]
  },
  {
   "cell_type": "code",
   "execution_count": 26,
   "id": "4de9f97a-5ee0-4f16-8a78-c6112104617c",
   "metadata": {},
   "outputs": [],
   "source": [
    "myString = '111'"
   ]
  },
  {
   "cell_type": "code",
   "execution_count": 27,
   "id": "6e63ce3c-6fec-473d-9e0e-931be0a45e38",
   "metadata": {},
   "outputs": [
    {
     "data": {
      "text/plain": [
       "3"
      ]
     },
     "execution_count": 27,
     "metadata": {},
     "output_type": "execute_result"
    }
   ],
   "source": [
    "len(myString)"
   ]
  },
  {
   "cell_type": "markdown",
   "id": "7b242afc-1c0a-4d25-bfa4-d32c5bb5e469",
   "metadata": {},
   "source": [
    "multiple elements within myString, each character is the value of 1"
   ]
  },
  {
   "cell_type": "code",
   "execution_count": 29,
   "id": "419c1d35-beb5-4146-a2da-eb340c43b740",
   "metadata": {},
   "outputs": [
    {
     "data": {
      "text/plain": [
       "11"
      ]
     },
     "execution_count": 29,
     "metadata": {},
     "output_type": "execute_result"
    }
   ],
   "source": [
    "newString = \"hello world\"\n",
    "len(newString)"
   ]
  },
  {
   "cell_type": "markdown",
   "id": "81cee33a-5868-4e74-82cc-47382077fef1",
   "metadata": {},
   "source": [
    "every value in that string has what's called an index, you can select a specific element of that variable using the [] characters\n",
    "- referred to as \"string slicing\"\n",
    "- REMEMBER! everything starts with 0, not 1"
   ]
  },
  {
   "cell_type": "code",
   "execution_count": 37,
   "id": "7ffbcebb-e52d-45de-b246-bb9f5c3be63c",
   "metadata": {},
   "outputs": [
    {
     "data": {
      "text/plain": [
       "'h'"
      ]
     },
     "execution_count": 37,
     "metadata": {},
     "output_type": "execute_result"
    }
   ],
   "source": [
    "newString[0]"
   ]
  },
  {
   "cell_type": "markdown",
   "id": "103d0cb2-f9c9-45a0-8fe7-2adf286c14a7",
   "metadata": {},
   "source": [
    "you can also specify a range of values seperated by a \":\""
   ]
  },
  {
   "cell_type": "code",
   "execution_count": 38,
   "id": "1ee96dd7-c5e9-4758-813f-2952e2e9d1a8",
   "metadata": {},
   "outputs": [
    {
     "data": {
      "text/plain": [
       "'ello'"
      ]
     },
     "execution_count": 38,
     "metadata": {},
     "output_type": "execute_result"
    }
   ],
   "source": [
    "newString[1:5]"
   ]
  },
  {
   "cell_type": "code",
   "execution_count": 39,
   "id": "4fc4856e-62b3-48fb-bc69-8cf585ce64ff",
   "metadata": {},
   "outputs": [
    {
     "data": {
      "text/plain": [
       "'el o'"
      ]
     },
     "execution_count": 39,
     "metadata": {},
     "output_type": "execute_result"
    }
   ],
   "source": [
    "newString[1:9:2]"
   ]
  },
  {
   "cell_type": "code",
   "execution_count": 40,
   "id": "900d9c17-5c6a-4bde-bfa8-f6dd3bf31dbb",
   "metadata": {},
   "outputs": [
    {
     "data": {
      "text/plain": [
       "'drwo'"
      ]
     },
     "execution_count": 40,
     "metadata": {},
     "output_type": "execute_result"
    }
   ],
   "source": [
    "newString[-1:2:-2]"
   ]
  },
  {
   "cell_type": "markdown",
   "id": "9bd131b7-513f-4c94-9caf-c9a1bfeb9c70",
   "metadata": {},
   "source": [
    "#### Exercise 1:"
   ]
  },
  {
   "cell_type": "code",
   "execution_count": 42,
   "id": "cdd50a88-1dd8-4ba7-9530-24dea4057560",
   "metadata": {},
   "outputs": [
    {
     "data": {
      "text/plain": [
       "'hello'"
      ]
     },
     "execution_count": 42,
     "metadata": {},
     "output_type": "execute_result"
    }
   ],
   "source": [
    "newString[0:5]"
   ]
  },
  {
   "cell_type": "code",
   "execution_count": 44,
   "id": "923e9d7c-370a-4022-a94f-edfdb0597e89",
   "metadata": {},
   "outputs": [
    {
     "data": {
      "text/plain": [
       "'world'"
      ]
     },
     "execution_count": 44,
     "metadata": {},
     "output_type": "execute_result"
    }
   ],
   "source": [
    "newString[6:11]"
   ]
  },
  {
   "cell_type": "code",
   "execution_count": 75,
   "id": "9814f74f-9896-43ef-aaec-a0942469a4cb",
   "metadata": {},
   "outputs": [
    {
     "data": {
      "text/plain": [
       "'dlrow olleh'"
      ]
     },
     "execution_count": 75,
     "metadata": {},
     "output_type": "execute_result"
    }
   ],
   "source": [
    "newString[-1:-12:-1]"
   ]
  },
  {
   "cell_type": "markdown",
   "id": "1b1cb8c6-4192-4b65-b52c-ff7cb2cce456",
   "metadata": {},
   "source": [
    "start at the last index, to the end of the range of values, step by -1"
   ]
  },
  {
   "cell_type": "markdown",
   "id": "427f1946-db9a-4f96-93cb-df43695aa604",
   "metadata": {},
   "source": [
    "#### Lists"
   ]
  },
  {
   "cell_type": "code",
   "execution_count": 77,
   "id": "c4e5d223-4f46-4808-b452-c4b979e78fea",
   "metadata": {},
   "outputs": [],
   "source": [
    "drinks = [\"whiskey\", \"vodka\", \"lager\", \"cider\"]"
   ]
  },
  {
   "cell_type": "markdown",
   "id": "52f7f9aa-2694-439a-b1e0-8ca54e30b55a",
   "metadata": {},
   "source": [
    "lists are:\n",
    "- ordered: they have a defined order that will not change. New items are added to the end of the list (w/ some exceptions)\n",
    "- changeable: we can change, add and remove items from the list"
   ]
  },
  {
   "cell_type": "code",
   "execution_count": 78,
   "id": "9af6b794-5340-4105-aab5-bae4e68dccdd",
   "metadata": {},
   "outputs": [
    {
     "data": {
      "text/plain": [
       "'vodka'"
      ]
     },
     "execution_count": 78,
     "metadata": {},
     "output_type": "execute_result"
    }
   ],
   "source": [
    "drinks[1]"
   ]
  },
  {
   "cell_type": "code",
   "execution_count": 84,
   "id": "3fe8b115-159a-43df-b55b-05a75baf201b",
   "metadata": {},
   "outputs": [
    {
     "data": {
      "text/plain": [
       "'tequila'"
      ]
     },
     "execution_count": 84,
     "metadata": {},
     "output_type": "execute_result"
    }
   ],
   "source": [
    "drinks[3] = \"tequila\"\n",
    "\n",
    "drinks[3]"
   ]
  },
  {
   "cell_type": "code",
   "execution_count": 88,
   "id": "c535e1b6-56f4-4937-8ef8-72aa14c77484",
   "metadata": {},
   "outputs": [
    {
     "data": {
      "text/plain": [
       "111"
      ]
     },
     "execution_count": 88,
     "metadata": {},
     "output_type": "execute_result"
    }
   ],
   "source": [
    "drinks[1] = 111\n",
    "drinks[1]"
   ]
  },
  {
   "cell_type": "code",
   "execution_count": 91,
   "id": "e75ff2be-95c2-4b55-8290-35ed0fb759cc",
   "metadata": {},
   "outputs": [
    {
     "data": {
      "text/plain": [
       "list"
      ]
     },
     "execution_count": 91,
     "metadata": {},
     "output_type": "execute_result"
    }
   ],
   "source": [
    "type(drinks)"
   ]
  },
  {
   "cell_type": "code",
   "execution_count": 94,
   "id": "e46129e4-ab95-40fb-b3fd-7c8c91c50173",
   "metadata": {},
   "outputs": [
    {
     "name": "stdout",
     "output_type": "stream",
     "text": [
      "whiskey\n"
     ]
    }
   ],
   "source": [
    "shots = drinks[0]\n",
    "print(shots)"
   ]
  },
  {
   "cell_type": "code",
   "execution_count": 95,
   "id": "1a813a89-b0ad-463c-a8db-ca86fd2a9bf9",
   "metadata": {},
   "outputs": [
    {
     "data": {
      "text/plain": [
       "['lager', 'tequila']"
      ]
     },
     "execution_count": 95,
     "metadata": {},
     "output_type": "execute_result"
    }
   ],
   "source": [
    "drinks[2:4]"
   ]
  },
  {
   "cell_type": "code",
   "execution_count": 98,
   "id": "b8bd9cbe-ede2-45d4-bf73-e03930d78a72",
   "metadata": {},
   "outputs": [
    {
     "data": {
      "text/plain": [
       "['whiskey', 111, 'lager', 'tequila', 'wine', 'wine']"
      ]
     },
     "execution_count": 98,
     "metadata": {},
     "output_type": "execute_result"
    }
   ],
   "source": [
    "drinks.append[\"wine\"]\n",
    "drinks"
   ]
  },
  {
   "cell_type": "code",
   "execution_count": 99,
   "id": "ead24906-18dd-4eb0-bb3c-d18cc9957ca9",
   "metadata": {},
   "outputs": [],
   "source": [
    "newDrinks = [\"beer\", \"water\"]"
   ]
  },
  {
   "cell_type": "code",
   "execution_count": 100,
   "id": "cfd9b741-d4dd-4a18-b731-5edb156c1a60",
   "metadata": {},
   "outputs": [],
   "source": [
    "drinks.extend(newDrinks)"
   ]
  },
  {
   "cell_type": "code",
   "execution_count": 101,
   "id": "4eb5b5d2-eed9-4377-a8f1-37137cdf97e5",
   "metadata": {},
   "outputs": [
    {
     "data": {
      "text/plain": [
       "['whiskey', 111, 'lager', 'tequila', 'wine', 'wine', 'beer', 'water']"
      ]
     },
     "execution_count": 101,
     "metadata": {},
     "output_type": "execute_result"
    }
   ],
   "source": [
    "drinks"
   ]
  },
  {
   "cell_type": "code",
   "execution_count": 105,
   "id": "72ed874b-9653-48f4-b74b-2fb9a19f0283",
   "metadata": {},
   "outputs": [],
   "source": [
    "drinks.insert[3, \"ice tea\"]"
   ]
  },
  {
   "cell_type": "code",
   "execution_count": 107,
   "id": "f49df9a7-de76-45c4-8995-c12af63885b9",
   "metadata": {},
   "outputs": [
    {
     "data": {
      "text/plain": [
       "['whiskey',\n",
       " 111,\n",
       " 'lager',\n",
       " 'ice tea',\n",
       " 'ice tea',\n",
       " 'ice tea',\n",
       " 'tequila',\n",
       " 'wine',\n",
       " 'wine',\n",
       " 'beer',\n",
       " 'water']"
      ]
     },
     "execution_count": 107,
     "metadata": {},
     "output_type": "execute_result"
    }
   ],
   "source": [
    "drinks"
   ]
  },
  {
   "cell_type": "markdown",
   "id": "f05e5739-4369-4dce-8737-57042b82eccb",
   "metadata": {},
   "source": [
    "#### tuple\n",
    "- ordered and unchangeable and is defined by using round breckets\n",
    "- myType = ()\n",
    "#### set\n",
    "- is unordered, unchangeable, and unindexed,and is defined using curly brackets. Sets cannot have repeat values\n",
    "- mySet = {}\n",
    "#### dictionary\n",
    "- stores data values in key:value pairs. It is ordered, chengeable, and does not allow supplicates\n",
    "- patientInfo = {\"age\": 48,\n",
    "                  \"gender\": male}\n"
   ]
  },
  {
   "cell_type": "markdown",
   "id": "226d1458-f405-487e-bbe4-9943e0c6c1e9",
   "metadata": {},
   "source": [
    "### If Statements (conditional statements)"
   ]
  },
  {
   "cell_type": "markdown",
   "id": "9ff7916d-95db-4faf-9e1f-70686426350c",
   "metadata": {},
   "source": [
    "Boolean Values\n",
    "- expressed via operators:\n",
    "- comparison operators ==, !=, >, <, <=, >="
   ]
  },
  {
   "cell_type": "code",
   "execution_count": 108,
   "id": "14196c6c-cbd0-4aef-a62d-b0ac77e32f17",
   "metadata": {},
   "outputs": [],
   "source": [
    "x, y = 1, 2"
   ]
  },
  {
   "cell_type": "code",
   "execution_count": 109,
   "id": "bb164b97-7e4e-461d-b494-424f28a0b8ce",
   "metadata": {},
   "outputs": [
    {
     "data": {
      "text/plain": [
       "False"
      ]
     },
     "execution_count": 109,
     "metadata": {},
     "output_type": "execute_result"
    }
   ],
   "source": [
    "x == y"
   ]
  },
  {
   "cell_type": "code",
   "execution_count": 110,
   "id": "9478fa11-1170-4bcd-879a-363401229b1e",
   "metadata": {},
   "outputs": [
    {
     "data": {
      "text/plain": [
       "True"
      ]
     },
     "execution_count": 110,
     "metadata": {},
     "output_type": "execute_result"
    }
   ],
   "source": [
    "x != y"
   ]
  },
  {
   "cell_type": "code",
   "execution_count": 111,
   "id": "68737a33-67bb-4d5b-a162-49064e086340",
   "metadata": {},
   "outputs": [
    {
     "data": {
      "text/plain": [
       "False"
      ]
     },
     "execution_count": 111,
     "metadata": {},
     "output_type": "execute_result"
    }
   ],
   "source": [
    "x >= y"
   ]
  },
  {
   "cell_type": "code",
   "execution_count": 112,
   "id": "02d863d5-b747-42bc-88ca-833d1f2f8fe7",
   "metadata": {},
   "outputs": [
    {
     "data": {
      "text/plain": [
       "False"
      ]
     },
     "execution_count": 112,
     "metadata": {},
     "output_type": "execute_result"
    }
   ],
   "source": [
    "y = '2'\n",
    "\n",
    "x == y"
   ]
  },
  {
   "cell_type": "code",
   "execution_count": 113,
   "id": "9d616abd-1add-4bbf-b3cd-0b12a9c2e9bf",
   "metadata": {},
   "outputs": [],
   "source": [
    "y = 2"
   ]
  },
  {
   "cell_type": "code",
   "execution_count": 114,
   "id": "0158d0e5-8cd1-46e7-9b5e-db40a8fc1959",
   "metadata": {},
   "outputs": [
    {
     "data": {
      "text/plain": [
       "False"
      ]
     },
     "execution_count": 114,
     "metadata": {},
     "output_type": "execute_result"
    }
   ],
   "source": [
    "x != y and x > y"
   ]
  },
  {
   "cell_type": "code",
   "execution_count": 115,
   "id": "dc48abf4-7ad8-4ba2-8336-f69f2ccbec39",
   "metadata": {},
   "outputs": [
    {
     "data": {
      "text/plain": [
       "True"
      ]
     },
     "execution_count": 115,
     "metadata": {},
     "output_type": "execute_result"
    }
   ],
   "source": [
    "x != y or x > y"
   ]
  },
  {
   "cell_type": "code",
   "execution_count": 116,
   "id": "61048fcd-d635-49c6-bc31-af429b6e618a",
   "metadata": {},
   "outputs": [
    {
     "data": {
      "text/plain": [
       "True"
      ]
     },
     "execution_count": 116,
     "metadata": {},
     "output_type": "execute_result"
    }
   ],
   "source": [
    "x != y and bool(1)"
   ]
  },
  {
   "cell_type": "markdown",
   "id": "5a680e52-eb92-404c-8506-a5c2f1fab27a",
   "metadata": {},
   "source": [
    "bool value will return true True if it has a value that isn't 0 or empty "
   ]
  },
  {
   "cell_type": "markdown",
   "id": "82d99e0b-0eeb-4d4f-ae2b-89c8b55cffe1",
   "metadata": {},
   "source": [
    "### Let's break down an if statement"
   ]
  },
  {
   "cell_type": "code",
   "execution_count": 117,
   "id": "14d85a75-8205-4c9b-bac1-59afbae03f42",
   "metadata": {},
   "outputs": [
    {
     "name": "stdout",
     "output_type": "stream",
     "text": [
      "a is greater than b\n"
     ]
    }
   ],
   "source": [
    "a = 200\n",
    "b = 33\n",
    "\n",
    "if b > a:\n",
    "    print(\"b is greater than a\")\n",
    "elif a == b:\n",
    "    print(\"a and b are equal\")\n",
    "else:\n",
    "    print(\"a is greater than b\")"
   ]
  },
  {
   "cell_type": "markdown",
   "id": "f052eda3-b56e-4024-bfe5-ababd2ca278c",
   "metadata": {},
   "source": [
    "only 1 if statement, as many elif as we want, and only 1 else statement"
   ]
  },
  {
   "cell_type": "markdown",
   "id": "36f2e074-4856-445d-98f5-35d50d2e8982",
   "metadata": {},
   "source": [
    "### match & case"
   ]
  },
  {
   "cell_type": "code",
   "execution_count": null,
   "id": "4be339dd-fcb6-4675-b231-b17973da3140",
   "metadata": {},
   "outputs": [],
   "source": [
    "day = 4\n",
    "match day:\n",
    "    case 1:\n",
    "        print(\"Monday\")\n",
    "    case 2:\n",
    "        print(\"Tuesday\")\n",
    "    case 3:\n",
    "        print(\"Wednesday\")"
   ]
  },
  {
   "cell_type": "code",
   "execution_count": 118,
   "id": "259c6ce8-722d-4899-99b2-cb9ea72467af",
   "metadata": {},
   "outputs": [
    {
     "name": "stderr",
     "output_type": "stream",
     "text": [
      "'touch' is not recognized as an internal or external command,\n",
      "operable program or batch file.\n"
     ]
    }
   ],
   "source": [
    "!touch tmp.txt"
   ]
  },
  {
   "cell_type": "markdown",
   "id": "cd024e2e-a7b1-41f3-a284-fd34b2ffe7ab",
   "metadata": {},
   "source": [
    "### Exercise 2:"
   ]
  },
  {
   "cell_type": "code",
   "execution_count": 134,
   "id": "2f40f549-b3f7-4630-98e1-eca085cac0bc",
   "metadata": {},
   "outputs": [
    {
     "name": "stdin",
     "output_type": "stream",
     "text": [
      "Enter your name:  Thomas\n"
     ]
    }
   ],
   "source": [
    "name = input(\"Enter your name: \")"
   ]
  },
  {
   "cell_type": "code",
   "execution_count": 122,
   "id": "e1dc5905-192d-4a65-804c-d6723b4908b4",
   "metadata": {},
   "outputs": [
    {
     "data": {
      "text/plain": [
       "'Hannah'"
      ]
     },
     "execution_count": 122,
     "metadata": {},
     "output_type": "execute_result"
    }
   ],
   "source": [
    "name"
   ]
  },
  {
   "cell_type": "code",
   "execution_count": 123,
   "id": "f92af735-28a0-48f8-9476-85997f8e7a01",
   "metadata": {},
   "outputs": [
    {
     "data": {
      "text/plain": [
       "6"
      ]
     },
     "execution_count": 123,
     "metadata": {},
     "output_type": "execute_result"
    }
   ],
   "source": [
    "len(name)"
   ]
  },
  {
   "cell_type": "code",
   "execution_count": 140,
   "id": "e792b3a2-bb38-462c-b28b-1aee659b4e54",
   "metadata": {},
   "outputs": [
    {
     "name": "stdout",
     "output_type": "stream",
     "text": [
      "Your area is: LD\n"
     ]
    }
   ],
   "source": [
    "if name == \"Hannah\":\n",
    "    area = \"BCN\"\n",
    "else:\n",
    "    nameLen = len(name)\n",
    "    if nameLen <=4:\n",
    "        area = \"SP\"\n",
    "    elif nameLen > 4 and nameLen <= 7:\n",
    "        area = \"LD\"\n",
    "    else: \n",
    "        area = \"BCN\"\n",
    "print(\"Your area is: \" + area)"
   ]
  },
  {
   "cell_type": "code",
   "execution_count": null,
   "id": "1ba9aee8-7852-4fa4-869f-6f5515aba530",
   "metadata": {},
   "outputs": [],
   "source": []
  }
 ],
 "metadata": {
  "kernelspec": {
   "display_name": "Python [conda env:base] *",
   "language": "python",
   "name": "conda-base-py"
  },
  "language_info": {
   "codemirror_mode": {
    "name": "ipython",
    "version": 3
   },
   "file_extension": ".py",
   "mimetype": "text/x-python",
   "name": "python",
   "nbconvert_exporter": "python",
   "pygments_lexer": "ipython3",
   "version": "3.13.5"
  }
 },
 "nbformat": 4,
 "nbformat_minor": 5
}
