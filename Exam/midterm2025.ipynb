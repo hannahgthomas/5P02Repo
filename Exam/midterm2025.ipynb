{
 "cells": [
  {
   "cell_type": "code",
   "execution_count": null,
   "id": "c5b0c760",
   "metadata": {
    "collapsed": true,
    "jupyter": {
     "outputs_hidden": true
    }
   },
   "outputs": [],
   "source": []
  },
  {
   "attachments": {},
   "cell_type": "markdown",
   "id": "92a319fe",
   "metadata": {},
   "source": [
    "# PSYC 5P02- Introduction to Programming for Psychology\n",
    "## Fall 2025\n",
    "\n",
    "### Midterm Hackathon\n",
    "### October 23\n",
    "\n",
    "* To compete this assignment, answer as many as the questions below as possible. You can answer the questions by modifying this Notebook or by creating a .py file. \n",
    "\n",
    "* ALL CODE MUST BE THOROUGHLY DOCUMENTED! You can use Notebook Markup or comments, but you must be detailed in your explanations of your code. Feel free to provide an explanation for your approach to solving a problem. \n",
    "\n",
    "* For each question, try to use the most efficient code you can to produce each response, unless otherwise specified. \n",
    "\n",
    "* All relevant files must be uploaded to a git repository that is shared with me (user: SMEmrich) in order for the midterm to be considered submitted. Please be sure to rename the file so it includes your name (e.g., JDoe-ProblemSet1.ipynb)\n",
    "\n",
    "* NO AI/ChatGPT/allowed! You can use all course notes and past assignments. You can also use other sources, but only to explain a concept, not to produce the solution to a problem. If you get stuck, ask me and I will help walk you through what you're trying to do. \n",
    "\n",
    "* Try to focus on having working code rather than completing all sections (I’d rather you have Question 1 and 6 working then have Questions 1 - 6 but they’re all broken).\n",
    "\n",
    "\n",
    "### Rubric:\n",
    "* Accuracy & Efficiency: 50%\n",
    "* Explaination and documentation: 50%"
   ]
  },
  {
   "cell_type": "markdown",
   "id": "1101f081",
   "metadata": {},
   "source": [
    "## Scenario:\n",
    "\n",
    "You are analyzing data from a simple reaction-time experiment. Each question builds upon the previous one. The participant pressed a key when a visual target appeared. You’ll process and summarize their data using Python.\n",
    "\n",
    "### Question 1\n",
    "\n",
    "Using the ``random`` library, create a random number of trials (e.g., between 10 - 20) of rts that randomly vary between 450 and 700 ms.\n",
    "\n",
    "Write some code that:\n",
    "\n",
    "* Prints the number of trials \"completed\".\n",
    "* Calculates and prints the mean and standard deviation of the reaction times.\n",
    "* Prints the fastest and slowest reaction times.\n",
    "\n",
    "(Feel free to use the ``statisics`` library or use ``numpy`` if you prefer)"
   ]
  },
  {
   "cell_type": "code",
   "execution_count": 64,
   "id": "f777fff4",
   "metadata": {
    "scrolled": true
   },
   "outputs": [
    {
     "data": {
      "text/plain": [
       "15"
      ]
     },
     "execution_count": 64,
     "metadata": {},
     "output_type": "execute_result"
    }
   ],
   "source": [
    "import numpy as np\n",
    "\n",
    "rng = np.random.default_rng() # random number generator \n",
    "\n",
    "n_trials = rng.integers(low=10, high=20) # rng.integers takes a range of values\n",
    "\n",
    "trial_rts = rng.integers(low=450, high=700, size=(rand_n_trials))\n",
    "\n",
    "# https://numpy.org/doc/2.1/reference/random/generated/numpy.random.Generator.integers.html\n"
   ]
  },
  {
   "cell_type": "code",
   "execution_count": 18,
   "id": "5dd27dea-57e3-47ec-b84e-0e6121214209",
   "metadata": {},
   "outputs": [
    {
     "name": "stdout",
     "output_type": "stream",
     "text": [
      "total trials completed = 18\n"
     ]
    }
   ],
   "source": [
    "print('total trials completed =', n_trials)"
   ]
  },
  {
   "cell_type": "code",
   "execution_count": 20,
   "id": "244e2a91-720c-4acb-98d1-684b55250def",
   "metadata": {},
   "outputs": [
    {
     "name": "stdout",
     "output_type": "stream",
     "text": [
      "[583 681 697 486 452 565 509 475 664 641 488 462 511 590 525]\n"
     ]
    }
   ],
   "source": [
    "print(trial_rts)"
   ]
  },
  {
   "cell_type": "code",
   "execution_count": 29,
   "id": "b2a6045f-6d82-46a8-b55a-56e2887fda3c",
   "metadata": {},
   "outputs": [
    {
     "name": "stdout",
     "output_type": "stream",
     "text": [
      "trial mean = 555.27\n"
     ]
    }
   ],
   "source": [
    "mean = np.mean(trial_rts)\n",
    "\n",
    "print('sample mean =', np.round(mean, 2))\n",
    "\n",
    "# https://numpy.org/devdocs/reference/generated/numpy.mean.html\n",
    "\n",
    "# I used the function np.round to print my values to 2 decimal points\n",
    "# rounding: https://numpy.org/doc/2.1/reference/generated/numpy.round.html"
   ]
  },
  {
   "cell_type": "code",
   "execution_count": 27,
   "id": "b95e21ca-f1e5-4fca-8276-5ed0ade3c229",
   "metadata": {},
   "outputs": [
    {
     "name": "stdout",
     "output_type": "stream",
     "text": [
      "trial sd = 80.53\n"
     ]
    }
   ],
   "source": [
    "sd = np.std(trial_rts)\n",
    "\n",
    "print('sample sd =', np.round(sd, 2))\n",
    "\n",
    "# https://numpy.org/devdocs/reference/generated/numpy.std.html\n"
   ]
  },
  {
   "cell_type": "code",
   "execution_count": 33,
   "id": "46148bdc-7677-4051-bd59-74cbd8990272",
   "metadata": {},
   "outputs": [
    {
     "name": "stdout",
     "output_type": "stream",
     "text": [
      "highest sample rt = 697 & lowest sample rt = 452\n"
     ]
    }
   ],
   "source": [
    "highest_rt = max(trial_rts) # takes the maximum value in a list\n",
    "\n",
    "lowest_rt = min(trial_rts) # takes the minimum value in a list\n",
    "\n",
    "print('highest sample rt =', highest_rt, '& lowest sample rt =', lowest_rt)"
   ]
  },
  {
   "cell_type": "markdown",
   "id": "06b78c4a",
   "metadata": {},
   "source": [
    "### Question 2\n",
    "\n",
    "Using the same list rts from Question 1, write code that:\n",
    "\n",
    "* Creates a new list called trimmed_rts that includes only trials below 600 ms.\n",
    "* Prints the number of trials removed.\n",
    "* Prints the new mean reaction time."
   ]
  },
  {
   "cell_type": "code",
   "execution_count": 54,
   "id": "9ae47d0c",
   "metadata": {},
   "outputs": [
    {
     "name": "stdout",
     "output_type": "stream",
     "text": [
      "681\n",
      "697\n",
      "664\n",
      "641\n"
     ]
    }
   ],
   "source": [
    "rt_cutoff = 600\n",
    "\n",
    "trimmed_rts = trial_rts[(trial_rts < rt_cutoff)] # slices the trial_rts to only include rts below the rt_cutoff and stores them into new list\n",
    "\n",
    "rt_removed = len(trial_rts) - len(trimmed_rts) # subtracts the len of original list to new list = diff between trials\n",
    "\n",
    "new_mean = np.mean(trimmed_rts) # prints new mean\n",
    "        \n",
    "\n",
    "#cleaned_data = data[(data < sd_cut_above) & (data > sd_cut_below)]"
   ]
  },
  {
   "cell_type": "code",
   "execution_count": 43,
   "id": "b72b664e-6796-4d96-8b59-c82df174c7a6",
   "metadata": {},
   "outputs": [
    {
     "data": {
      "text/plain": [
       "array([583, 486, 452, 565, 509, 475, 488, 462, 511, 590, 525])"
      ]
     },
     "execution_count": 43,
     "metadata": {},
     "output_type": "execute_result"
    }
   ],
   "source": [
    "trimmed_rts"
   ]
  },
  {
   "cell_type": "code",
   "execution_count": 121,
   "id": "958b86e5-e7f0-4b93-8e4f-22f00fa8850d",
   "metadata": {},
   "outputs": [
    {
     "name": "stdout",
     "output_type": "stream",
     "text": [
      "number of trials removed = 4\n"
     ]
    }
   ],
   "source": [
    "print(\"number of trials removed =\", rt_removed)"
   ]
  },
  {
   "cell_type": "code",
   "execution_count": 123,
   "id": "a27ca97f-901f-4ef6-8ec8-4be9768ccbe8",
   "metadata": {},
   "outputs": [
    {
     "name": "stdout",
     "output_type": "stream",
     "text": [
      "new mean = 513.27\n"
     ]
    }
   ],
   "source": [
    "print(\"new mean =\", np.round(new_mean, 2))"
   ]
  },
  {
   "cell_type": "markdown",
   "id": "37cdfe12",
   "metadata": {},
   "source": [
    "### Question 3 \n",
    "\n",
    "Define a function called ``summarize_rts(rt_list)`` that:\n",
    "\n",
    "* Takes a list of reaction times.\n",
    "* Prints the number of trials, mean, and standard deviation.\n",
    "\n",
    "Then:\n",
    "\n",
    "* Call the function on both rts and trimmed_rts.\n",
    "\n",
    "Compare the two means, printing a message such as:\n",
    "\n",
    "``Trimmed data are faster by 25.4 ms``"
   ]
  },
  {
   "cell_type": "code",
   "execution_count": 133,
   "id": "07aa99de",
   "metadata": {},
   "outputs": [],
   "source": [
    "def summarize_rts(rt_list):\n",
    "    n_trials = len(rt_list)\n",
    "    print('number of trials =', np.round(n_trials, 2))\n",
    "    mean_rt = np.mean(rt_list)\n",
    "    print('mean =', np.round(mean_rt, 2))\n",
    "    sd_rt = np.std(rt_list)\n",
    "    print('sd =', np.round(sd_rt, 2))\n",
    "\n",
    "    return mean_rt"
   ]
  },
  {
   "cell_type": "code",
   "execution_count": 134,
   "id": "140fd211-ecb8-4706-b2f6-b3ae2e44af31",
   "metadata": {},
   "outputs": [
    {
     "name": "stdout",
     "output_type": "stream",
     "text": [
      "number of trials = 15\n",
      "mean = 590.87\n",
      "sd = 70.39\n"
     ]
    },
    {
     "data": {
      "text/plain": [
       "np.float64(590.8666666666667)"
      ]
     },
     "execution_count": 134,
     "metadata": {},
     "output_type": "execute_result"
    }
   ],
   "source": [
    "summarize_rts(trial_rts)"
   ]
  },
  {
   "cell_type": "code",
   "execution_count": 78,
   "id": "e47eefe0-3b21-46a8-ac56-66198a0cb92d",
   "metadata": {},
   "outputs": [
    {
     "name": "stdout",
     "output_type": "stream",
     "text": [
      "number of trials = 11\n",
      "mean = 513.27\n",
      "sd = 45.54\n"
     ]
    }
   ],
   "source": [
    "summarize_rts(trimmed_rts)"
   ]
  },
  {
   "cell_type": "markdown",
   "id": "364d2e76",
   "metadata": {},
   "source": [
    "### Question 4\n",
    "\n",
    "Write some code that that:\n",
    "\n",
    "* Generates multiple subjects RTs within one variable (can be stored in a list, dictionary, or numpy array)\n",
    "\n",
    "* Uses your summarize_rts() function to print each participant’s mean reaction time.\n",
    "\n",
    "* Stores each participant’s mean in a list.\n",
    "\n",
    "* Prints the group mean across all participants.\n"
   ]
  },
  {
   "cell_type": "code",
   "execution_count": 96,
   "id": "ca016f15",
   "metadata": {},
   "outputs": [],
   "source": [
    "subjects = [101, 102, 103, 104, 105]\n",
    "\n",
    "\n",
    "rng = np.random.default_rng()\n",
    "\n",
    "n_trials = rng.integers(low=10, high=20)\n",
    "\n",
    "trial_rts = rng.integers(low=450, high=700, size=(rand_n_trials))\n",
    "\n",
    "subject_rts_first_try = [\n",
    "    {\"subject_id\": 101, \"rts\": rng.integers(low=450, high=700, size=(rand_n_trials))},\n",
    "    {\"subject_id\": 102, \"rts\": rng.integers(low=450, high=700, size=(rand_n_trials))},\n",
    "    {\"subject_id\": 103, \"rts\": rng.integers(low=450, high=700, size=(rand_n_trials))},\n",
    "    {\"subject_id\": 104, \"rts\": rng.integers(low=450, high=700, size=(rand_n_trials))},\n",
    "    {\"subject_id\": 105, \"rts\": rng.integers(low=450, high=700, size=(rand_n_trials))}]\n"
   ]
  },
  {
   "cell_type": "code",
   "execution_count": 110,
   "id": "f19fb0d0-c063-4f76-9b67-5072066a1cf2",
   "metadata": {},
   "outputs": [],
   "source": [
    "subject_rts = {\n",
    "    \"101\":{\"rts\": rng.integers(low=450, high=700, size=(rand_n_trials))},\n",
    "    \"102\":{\"rts\": rng.integers(low=450, high=700, size=(rand_n_trials))},\n",
    "    \"103\":{\"rts\": rng.integers(low=450, high=700, size=(rand_n_trials))},\n",
    "    \"104\":{\"rts\": rng.integers(low=450, high=700, size=(rand_n_trials))},\n",
    "    \"105\":{\"rts\": rng.integers(low=450, high=700, size=(rand_n_trials))}}\n",
    "\n",
    "# I fear I spent way too long trying to figure this out but this is the resources I was using https://www.w3schools.com/python/python_dictionaries_nested.asp"
   ]
  },
  {
   "cell_type": "code",
   "execution_count": 111,
   "id": "8b2b50b9-e93c-460d-80c0-92cd2f0976bc",
   "metadata": {},
   "outputs": [
    {
     "name": "stdout",
     "output_type": "stream",
     "text": [
      "[501 493 582 643 568 580 483 599 580 497 641 668 482 553 565]\n"
     ]
    }
   ],
   "source": [
    "print(subject_rts[\"103\"][\"rts\"])"
   ]
  },
  {
   "cell_type": "code",
   "execution_count": 140,
   "id": "8daac362-cc19-461b-b5a4-a75ba596d03e",
   "metadata": {},
   "outputs": [
    {
     "name": "stdout",
     "output_type": "stream",
     "text": [
      "number of trials = 15\n",
      "mean = 570.47\n",
      "sd = 70.66\n"
     ]
    },
    {
     "data": {
      "text/plain": [
       "np.float64(570.4666666666667)"
      ]
     },
     "execution_count": 140,
     "metadata": {},
     "output_type": "execute_result"
    }
   ],
   "source": [
    "summarize_rts(subject_rts[\"101\"][\"rts\"])\n",
    "\n",
    "# I was able to get this to work, such that I could apply the function I created to one participant in my dictionary.\n",
    "\n",
    "# Overall, I think that I wanted to challenge myself but using a dictionary and I spent too much time trying to figure out how to actually access the\n",
    "# values within the dictionary, that I wasted a bunch of time on it.\n"
   ]
  },
  {
   "cell_type": "code",
   "execution_count": null,
   "id": "10ddf20e-b05b-4095-9785-e652c89914fd",
   "metadata": {},
   "outputs": [],
   "source": [
    "subject_means = []\n",
    "\n",
    "subject_means.append(sub_101[mean_rt]) # could not figure this out either, I tried to return the mean_rt but it was not letting me append to the list"
   ]
  },
  {
   "cell_type": "markdown",
   "id": "9e64cea8",
   "metadata": {},
   "source": [
    "### Question 5 \n",
    "\n",
    "Create a class Participant that:\n",
    "\n",
    "* Has attributes pid (ID) and rts (list of reaction times).\n",
    "\n",
    "Includes methods:\n",
    "\n",
    "* mean_rt() — returns the mean RT\n",
    "\n",
    "* add_rt(rt) — adds a new RT\n",
    "\n",
    "* num_trials() — returns how many trials they have\n",
    "\n",
    "Then:\n",
    "\n",
    "* Create an object for \"S01\" using the original data.\n",
    "\n",
    "* Add a new reaction time of 505.\n",
    "\n",
    "* Print the participant’s ID, number of trials, and updated mean."
   ]
  },
  {
   "cell_type": "code",
   "execution_count": 151,
   "id": "ac8fa53f",
   "metadata": {},
   "outputs": [],
   "source": [
    "class Participant:\n",
    "\n",
    "    def __init__(self, ID, rts):\n",
    "        self.pid = ID\n",
    "        self.rts = rts\n",
    " # Define methods for the class\n",
    "    def mean_rt(self):\n",
    "        mean = np.mean(rts)\n",
    "        print(mean)\n",
    "\n",
    "    def add_rt(self):\n",
    "        new_rt = ''\n",
    "\n",
    "    def num_trials(self):\n",
    "        n_trials = len()\n",
    "        print(n_trials)"
   ]
  },
  {
   "cell_type": "code",
   "execution_count": 152,
   "id": "460ecd83-386c-4ddd-a437-963325f2a02f",
   "metadata": {},
   "outputs": [
    {
     "data": {
      "text/plain": [
       "<__main__.Participant at 0x1f488a39d30>"
      ]
     },
     "execution_count": 152,
     "metadata": {},
     "output_type": "execute_result"
    }
   ],
   "source": [
    "S01 = Participant(\"01\", trial_rts)\n",
    "\n",
    "S01"
   ]
  },
  {
   "cell_type": "code",
   "execution_count": 153,
   "id": "f8c8522e-60a6-45e7-84ea-e50cd2a8edd3",
   "metadata": {},
   "outputs": [
    {
     "name": "stdout",
     "output_type": "stream",
     "text": [
      "<__main__.Participant object at 0x000001F488A39D30> <bound method Participant.mean_rt of <__main__.Participant object at 0x000001F488A39D30>>\n"
     ]
    }
   ],
   "source": [
    "print(S01, S01.mean_rt)"
   ]
  },
  {
   "cell_type": "markdown",
   "id": "2b0ad21d",
   "metadata": {},
   "source": [
    "### Question 6\n",
    "\n",
    "You want to quickly simulate one trial of your reaction-time task in PsychoPy.\n",
    "\n",
    "Write a minimal PsychoPy script that:\n",
    "\n",
    "* Displays a fixation cross (+) for 1 second.\n",
    "\n",
    "* Then displays the word \"GO!\" until a key is pressed.\n",
    "\n",
    "* Records and prints the reaction time in milliseconds.\n",
    "\n",
    "(Hint: Use from psychopy import visual, core, event; a win, Clock, and event.waitKeys().)"
   ]
  },
  {
   "cell_type": "code",
   "execution_count": null,
   "id": "f0bca045",
   "metadata": {},
   "outputs": [],
   "source": []
  }
 ],
 "metadata": {
  "kernelspec": {
   "display_name": "Python [conda env:base] *",
   "language": "python",
   "name": "conda-base-py"
  },
  "language_info": {
   "codemirror_mode": {
    "name": "ipython",
    "version": 3
   },
   "file_extension": ".py",
   "mimetype": "text/x-python",
   "name": "python",
   "nbconvert_exporter": "python",
   "pygments_lexer": "ipython3",
   "version": "3.13.5"
  }
 },
 "nbformat": 4,
 "nbformat_minor": 5
}
