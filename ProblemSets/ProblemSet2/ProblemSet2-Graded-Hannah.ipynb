{
 "cells": [
  {
   "cell_type": "markdown",
   "id": "6a5456ba",
   "metadata": {},
   "source": [
    "# PSYC 5P02- Introduction to Programming for Psychology\n",
    "## Fall 2025\n",
    "\n",
    "### Problem Set #2 - Grading Rubric\n",
    "\n",
    "### Assigned September 25 - Due October 2\n",
    "### Late Penalty: 5%/day\n",
    "\n",
    "\n",
    "### Rubric:\n",
    "* Accuracy & Efficiency: 50%\n",
    "* Explaination and documentation: 50%\n",
    "\n",
    "---"
   ]
  },
  {
   "cell_type": "markdown",
   "id": "57621301",
   "metadata": {},
   "source": [
    "**Question 1:**\n",
    "\n",
    "_(a)_ Generate 100 normally distributed values with a mean of 0.7 and a standard deviation of .2. (/2)"
   ]
  },
  {
   "cell_type": "code",
   "execution_count": 6,
   "id": "12dd6aa8",
   "metadata": {},
   "outputs": [
    {
     "data": {
      "text/plain": [
       "0.7073866243793643"
      ]
     },
     "execution_count": 6,
     "metadata": {},
     "output_type": "execute_result"
    }
   ],
   "source": [
    "import numpy as np\n",
    "\n",
    "# %% Question 1: (a) Generate 100 normally distributed values with a mean of 0.7 and a standard deviation of .2.\n",
    "\n",
    "# Here, I've set up mean and sd as global variables, but I could just explicitly list them in the rng.normal argument \n",
    "\n",
    "mean = 0.7\n",
    "\n",
    "sd = 0.2\n",
    "\n",
    "rng = np.random.default_rng() # random number generator\n",
    "\n",
    "x = rng.normal(mean, sd, 100) \n",
    "\n",
    "y = rng.normal(0.7, 0.2, 100) \n",
    "\n",
    "'''\n",
    "the rng.normal() function takes the following arguments:\n",
    "    loc = mean\n",
    "    scale = standard deviation\n",
    "    size = # of observations / sample\n",
    "\n",
    "https://numpy.org/doc/stable/reference/random/generated/numpy.random.Generator.normal.html#numpy-random-generator-normal\n",
    "\n",
    "'''\n",
    "\n",
    "# %% Checking Values\n",
    "\n",
    "np.mean(x) # the mean is not exactly 0.7, but it's close. That's because we are just pulling RANDOM numbers from a normal distribution with a mean of 0.7 and SD of 0.2\n",
    "# so we can still expect some variability. \n",
    "\n",
    "# https://numpy.org/doc/stable/reference/generated/numpy.mean.html''"
   ]
  },
  {
   "cell_type": "markdown",
   "id": "1966097f",
   "metadata": {},
   "source": [
    "**Commnets:** \n",
    "- good work. Code 2/2, documentation 2/2 **4/4**"
   ]
  },
  {
   "cell_type": "markdown",
   "id": "f0029500",
   "metadata": {},
   "source": [
    "_(b)_ Create a function that calculates the mean and standard deviation some list of values, and remove any values that exceed 2.5 SDs of the mean, recursively, until there are no outliers to remove. **Note:** The numbers to be trimmed should be an argument passed to the function. (/10)"
   ]
  },
  {
   "cell_type": "code",
   "execution_count": 8,
   "id": "7773d4e4",
   "metadata": {},
   "outputs": [
    {
     "name": "stdout",
     "output_type": "stream",
     "text": [
      "cleaningFunc output:\n",
      "loop # 1\n",
      "Original Mean: 0.7073866243793643\n",
      "Original SD: 0.2130028147302777\n",
      "2 cutoff ABOVE the mean: 1.1333922538399197\n",
      "2 cutoff BELOW the mean 0.28138099491880886\n",
      "Cleaned Mean: 0.7154080148557033\n",
      "Cleaned SD: 0.17828655222501752\n",
      "Number of Outliers Removed: 5\n",
      "loop # 2\n",
      "Original Mean: 0.7154080148557033\n",
      "Original SD: 0.17828655222501752\n",
      "2 cutoff ABOVE the mean: 1.0719811193057383\n",
      "2 cutoff BELOW the mean 0.35883491040566823\n",
      "Cleaned Mean: 0.7243165906794099\n",
      "Cleaned SD: 0.16249219401837392\n",
      "Number of Outliers Removed: 4\n",
      "loop # 3\n",
      "Original Mean: 0.7243165906794099\n",
      "Original SD: 0.16249219401837392\n",
      "2 cutoff ABOVE the mean: 1.0493009787161578\n",
      "2 cutoff BELOW the mean 0.39933220264266206\n",
      "Cleaned Mean: 0.7290191426858558\n",
      "Cleaned SD: 0.14467361404778803\n",
      "Number of Outliers Removed: 5\n",
      "loop # 4\n",
      "Original Mean: 0.7290191426858558\n",
      "Original SD: 0.14467361404778803\n",
      "2 cutoff ABOVE the mean: 1.0183663707814319\n",
      "2 cutoff BELOW the mean 0.4396719145902797\n",
      "Cleaned Mean: 0.7325134797823746\n",
      "Cleaned SD: 0.1418682542150547\n",
      "Number of Outliers Removed: 1\n",
      "loop # 5\n",
      "Original Mean: 0.7325134797823746\n",
      "Original SD: 0.1418682542150547\n",
      "2 cutoff ABOVE the mean: 1.016249988212484\n",
      "2 cutoff BELOW the mean 0.4487769713522652\n",
      "Cleaned Mean: 0.7359169556487206\n",
      "Cleaned SD: 0.13921779295690664\n",
      "Number of Outliers Removed: 1\n",
      "loop # 6\n",
      "Original Mean: 0.7359169556487206\n",
      "Original SD: 0.13921779295690664\n",
      "2 cutoff ABOVE the mean: 1.0143525415625338\n",
      "2 cutoff BELOW the mean 0.45748136973490733\n",
      "Cleaned Mean: 0.7359169556487206\n",
      "Cleaned SD: 0.13921779295690664\n",
      "Number of Outliers Removed: 0\n"
     ]
    }
   ],
   "source": [
    "\n",
    "def cleaningFunc(data, sd_cutoff = 2.5): # define my cleaning function - the arguments are data (array) and sd_cutoff can be modified but 2.5 is the default\n",
    "    print('cleaningFunc output:')\n",
    "    \n",
    "    loop_num = 0 # Creating a counter variable\n",
    "    \n",
    "    while True: # Use while because we don't know how many times we want to run this code\n",
    "        loop_num += 1 # each time the loop_num increases by 1\n",
    "        print('loop #', loop_num) # This allows me to count the number of times the while loop goes through\n",
    "        # Calculate mean\n",
    "        mean = np.mean(data) \n",
    "        print('Original Mean:', mean) # Originally, I tried to do ('Original Mean:' + mean) but you cannot concatenate between a string and number(float)\n",
    "        \n",
    "        # Calculate standard deviation\n",
    "        sd = np.std(data)\n",
    "        print('Original SD:', sd)\n",
    "        \n",
    "        # Specify outlier cutoffs\n",
    "        sd_cut_above = mean + sd_cutoff*sd # this will automatically change based on what sd_cutoff is\n",
    "        print(sd_cutoff, 'cutoff ABOVE the mean:', sd_cut_above)\n",
    "        \n",
    "        sd_cut_below = mean - sd_cutoff*sd\n",
    "        print(sd_cutoff, 'cutoff BELOW the mean', sd_cut_below)\n",
    "        \n",
    "        # Slice the data to include only values that are within our SD cut off ranges, store this cleaned data into a new array\n",
    "        cleaned_data = data[(data < sd_cut_above) & (data > sd_cut_below)] # this is how I would do this in R\n",
    "        \n",
    "        #Calculate new mean from cleaned_data\n",
    "        new_mean = np.mean(cleaned_data) # using cleaned_data we just created\n",
    "        print('Cleaned Mean:', new_mean)\n",
    "        \n",
    "        # Calculate the new standard deviation\n",
    "        new_sd = np.std(cleaned_data)\n",
    "        print('Cleaned SD:', new_sd)\n",
    "        \n",
    "        #Compare the difference in length between our original data and cleaned data to see how many outliers were removed\n",
    "        num_outliers = len(data) - len(cleaned_data)\n",
    "        print('Number of Outliers Removed:', num_outliers)\n",
    "        \n",
    "        if len(cleaned_data) == len(data): # This is our break conditional, if the loop does not trim anymore outliers then break the loop. \n",
    "        \n",
    "            break\n",
    "        data = cleaned_data # this updates the data after each cleaning \n",
    "        \n",
    "        \n",
    "    \n",
    "    return cleaned_data # returns the final cleaned dataset \n",
    "\n",
    "# %%\n",
    "\n",
    "'''\n",
    "Notes:\n",
    "    I was comfortable defining this function since it's something I do regularly in R.  I had defined the function properly but it only ran once. \n",
    "    It took me quite a bit of time to figure out how to apply the function I created into the while loop. Then even more to figure out how to break the loop. But by counting\n",
    "    the number of outliers after each loop (instead of after). By making the if len(cleaned_data) == len(data): the conditional argument to while True I was able to apply\n",
    "    the function recursively. \n",
    "    \n",
    "    I do think there has to be a more efficient way to set up the break in the loop using the while statement, I think by defining the cleaning function itself then\n",
    "    placing it within the loop I might have some redudances such as printing the results from each loop. However, this made it easy to debug the code to ensure it \n",
    "    was still removing outliers and that the mean and sd were actually getting smaller with each loop through.\n",
    "    \n",
    "https://realpython.com/python-while-loop/    \n",
    "https://pieriantraining.com/counting-in-a-python-loop-a-beginners-guide/\n",
    "https://medium.com/analytics-vidhya/removing-outliers-understanding-how-and-what-behind-the-magic-18a78ab480ff\n",
    "\n",
    "'''\n",
    "# %%\n",
    "\n",
    "# Demonstrating that the function works\n",
    "\n",
    "cleaned_x = cleaningFunc(x, sd_cutoff = 2) # storing the cleaned data frame into an array"
   ]
  },
  {
   "cell_type": "markdown",
   "id": "9f6a79e1",
   "metadata": {},
   "source": [
    "**Comments:**\n",
    "- really elegant use of slicing\n",
    "- your print solution works exactly as intended. Could also concatenate by chaing the int to a str with ``str()``\n",
    "- I'm. not sure if you're just doing it just to keep track of it yourself but the new mean and sd twice in the loop, and you're never really making use of the variables ``new_mean`` and ``new_sd``\n",
    "- your solution to exiting the loop works although you could simply build it into the loop itself by declaring a variable ``cleaned_data = []`` and then making your loopw ``while (cleaned_data != data):``\n",
    "- also your use of ``len(cleaned_data) == len(data)`` means it could return true if they're the same length but not if they're identical arrays. Unlikely to happen in this case but something to protect against?\n",
    "- code: 4/5, documentation 5/5, **total: 9/10**"
   ]
  },
  {
   "cell_type": "markdown",
   "id": "137f3b2c",
   "metadata": {},
   "source": [
    "_(c)_ Apply the function created in _(b)_ to the the list of 100 numbers you generated in _(a)_. Produce the mean, SD, and number of outliers removed by the procedure. (/4)"
   ]
  },
  {
   "cell_type": "code",
   "execution_count": 10,
   "id": "df1f9456",
   "metadata": {},
   "outputs": [
    {
     "name": "stdout",
     "output_type": "stream",
     "text": [
      "cleaningFunc output:\n",
      "loop # 1\n",
      "Original Mean: 0.7120464580129664\n",
      "Original SD: 0.20000851543645864\n",
      "2.5 cutoff ABOVE the mean: 1.212067746604113\n",
      "2.5 cutoff BELOW the mean 0.21202516942181981\n",
      "Cleaned Mean: 0.7120464580129664\n",
      "Cleaned SD: 0.20000851543645864\n",
      "Number of Outliers Removed: 0\n",
      "summary of cleaning process:\n",
      "original mean: 0.7120464580129664\n",
      "new mean: 0.7120464580129664\n",
      "original sd: 0.20000851543645864\n",
      "new sd: 0.20000851543645864\n",
      "total outliers removed: 0\n"
     ]
    }
   ],
   "source": [
    "\n",
    "cleaned_y = cleaningFunc(y, sd_cutoff = 2.5)\n",
    "\n",
    "# %%\n",
    "# Summary of the overall changes made, compared the original y list to the cleaned y list\n",
    "\n",
    "print(\"summary of cleaning process:\")\n",
    "print(\"original mean:\", y.mean())\n",
    "print(\"new mean:\", cleaned_y.mean())\n",
    "print(\"original sd:\", y.std())\n",
    "print(\"new sd:\", cleaned_y.std())\n",
    "print(\"total outliers removed:\", len(y) - len(cleaned_y))\n",
    "\n",
    "\n",
    "# %%"
   ]
  },
  {
   "cell_type": "markdown",
   "id": "71f44d1f",
   "metadata": {},
   "source": [
    "**comments:**\n",
    "- nice work. code 2/2, documentation 2/2 **total: 4/4**\n",
    "\n",
    "**Question 1 total: 17/18**"
   ]
  },
  {
   "cell_type": "markdown",
   "id": "b6b29ab0",
   "metadata": {},
   "source": [
    "**Question 2:** \n",
    "\n",
    "*(a)* Create a list with 10 names of hypothetical students (use only lists for now). Create a second list of 10 theoretical grades between 76 and 100. Assume the order of the grades is the same order of the list of names."
   ]
  },
  {
   "cell_type": "code",
   "execution_count": 12,
   "id": "86bada22",
   "metadata": {},
   "outputs": [
    {
     "data": {
      "text/plain": [
       "\"\\nBased on the previous question, I wondered if I could use a random generator to create random grade values within the range of 76 to 100.\\n\\nI found this stackoverflow and applied it here. While this wasn't required I can imagine that using this function to simulate data might be helpful later on.\\n\\nhttps://stackoverflow.com/questions/22842289/generate-n-unique-random-numbers-within-a-range\\n\\n\""
      ]
     },
     "execution_count": 12,
     "metadata": {},
     "output_type": "execute_result"
    }
   ],
   "source": [
    "students = [\"ali\", \"beatriz\", \"charles\", \"diya\", \"eric\", \"seth\", \"gabriel\", \"anna\", \"ella\", \"rory\"]\n",
    "\n",
    "grades = np.random.randint(76, 100, 10) \n",
    "\n",
    "'''\n",
    "Based on the previous question, I wondered if I could use a random generator to create random grade values within the range of 76 to 100.\n",
    "\n",
    "I found this stackoverflow and applied it here. While this wasn't required I can imagine that using this function to simulate data might be helpful later on.\n",
    "\n",
    "https://stackoverflow.com/questions/22842289/generate-n-unique-random-numbers-within-a-range\n",
    "\n",
    "'''"
   ]
  },
  {
   "cell_type": "markdown",
   "id": "45b226ec",
   "metadata": {},
   "source": [
    "**Commnents:**\n",
    "- good work. code 2/2, documentation 2/2. **total: 4/4**"
   ]
  },
  {
   "cell_type": "markdown",
   "id": "4dadfce7",
   "metadata": {},
   "source": [
    "*(b)* Write a script that loops through each of the students, and then return's their letter grade based on this convention:\n",
    "\n",
    "* A+: >=90\n",
    "* 85 >= A <90\n",
    "* 80 >= A- <85\n",
    "* 76 >= B+ < 80\n",
    "\n",
    "(/6)"
   ]
  },
  {
   "cell_type": "code",
   "execution_count": 15,
   "id": "7d1f88ff",
   "metadata": {},
   "outputs": [
    {
     "name": "stdout",
     "output_type": "stream",
     "text": [
      "ali = B+\n",
      "beatriz = A-\n",
      "charles = B+\n",
      "diya = A\n",
      "eric = A\n",
      "seth = A+\n",
      "gabriel = A+\n",
      "anna = B+\n",
      "ella = A\n",
      "rory = A\n",
      "ali = B+\n",
      "beatriz = A-\n",
      "charles = B+\n",
      "diya = A\n",
      "eric = A\n",
      "seth = A+\n",
      "gabriel = A+\n",
      "anna = B+\n",
      "ella = A\n",
      "rory = A\n",
      "ali 77\n",
      "beatriz 80\n",
      "charles 78\n",
      "diya 88\n",
      "eric 89\n",
      "seth 93\n",
      "gabriel 91\n",
      "anna 78\n",
      "ella 86\n",
      "rory 87\n",
      "['ali', 'beatriz', 'charles', 'diya', 'eric', 'seth', 'gabriel', 'anna', 'ella', 'rory'] [77 80 78 88 89 93 91 78 86 87]\n",
      "charles 78\n"
     ]
    }
   ],
   "source": [
    "\n",
    "# creating a for loop to return letter grade\n",
    "for i in range(len(students)): # will go through each student in the list\n",
    "    student = students[i] # i indexes the position\n",
    "    grade = grades[i] # does the same thing here\n",
    "    \n",
    "    if grade >= 90:\n",
    "        print(student, \"=\", \"A+\")\n",
    "    elif 85 <= grade < 90:\n",
    "        print(student, \"=\", \"A\")\n",
    "    elif  80 <= grade < 85:\n",
    "        print(student, \"=\", \"A-\")\n",
    "    elif  76 <= grade < 80:\n",
    "        print(student, \"=\", \"B+\")\n",
    "\n",
    "'''\n",
    "  This code only works if the position is the same, since I'm indexing based on position. \n",
    "  I'm sure if the data was organized in a data frame then this would be easier.\n",
    "  I know personally that indexing by position is risky so I explored other methods below. \n",
    "        \n",
    "https://www.geeksforgeeks.org/python/python-iterating-two-lists-at-once/\n",
    "https://www.w3schools.com/python/python_lists_loop.asp\n",
    "\n",
    "'''\n",
    "# %%\n",
    "\n",
    "# It does seem that zip() is a function that can combine two lists and iterate over them in parallel\n",
    "\n",
    "for name, grade in zip(students, grades):\n",
    "    \n",
    "    if grade >= 90:\n",
    "        print(name, \"=\", \"A+\")\n",
    "    elif 85 <= grade < 90:\n",
    "        print(name, \"=\", \"A\")\n",
    "    elif  80 <= grade < 85:\n",
    "        print(name, \"=\", \"A-\")\n",
    "    elif  76 <= grade < 80:\n",
    "        print(name, \"=\", \"B+\")\n",
    "\n",
    "# %%\n",
    "\n",
    "for name, grade in zip(students, grades): # by using zip() the lists are paired, if not they are matched by position\n",
    "    print(name, grade)\n",
    "    \n",
    "# %%\n",
    "\n",
    "print(students, grades) # prints the list to the console\n",
    "\n",
    "# %%\n",
    "\n",
    "print(students[2], grades[2]) # demonstrates how the lists are based on position\n",
    "\n",
    "# %%"
   ]
  },
  {
   "cell_type": "markdown",
   "id": "c46a4f46",
   "metadata": {},
   "source": [
    "**Comments:**\n",
    "- good work. The zip function is clever. I was only expecting the first solution, since in most instances we deal with data that is paired (e.g., in a data file, each line corresponding to a different trial). \n",
    "- code: 3/3, documentation: 3/3, **total: 6/6**\n",
    "\n",
    "**Question 2 total: 10/10**"
   ]
  },
  {
   "cell_type": "markdown",
   "id": "c13480ea",
   "metadata": {},
   "source": [
    "**Question 3:**\tWrite a function called ‘gradeLookup’ that takes, as an input from the user, a student’s name. Then  look up the info based on Question 2, and write to the command window the student’s name, numerical grade, and letter grade. \n",
    "\n",
    "**Bonus:** Can you figure out a way to ensure that the name entered is one that exists in the list?? "
   ]
  },
  {
   "cell_type": "code",
   "execution_count": 19,
   "id": "d1a9241f",
   "metadata": {},
   "outputs": [
    {
     "name": "stdout",
     "output_type": "stream",
     "text": [
      "Enter student name: anna\n",
      "student name: anna\n",
      "numeric grade: 78\n",
      "letter grade: B+\n"
     ]
    }
   ],
   "source": [
    "\n",
    "# Defining gradeLookup function    \n",
    "def gradeLookup(student_name): #I originally tried to put input here, but I don't think you can call a function within a function?\n",
    "    for name, grade in zip(students, grades): # Using zip to pair up the students and grades lists\n",
    "        if name == student_name: # the student_name argument has to match a name in the list \n",
    "            if grade >= 90:\n",
    "                letter_grade = \"A+\"\n",
    "            elif 85 <= grade < 90:\n",
    "                letter_grade = \"A\"\n",
    "            elif  80 <= grade < 85:\n",
    "                letter_grade = \"A-\"\n",
    "            elif  76 <= grade < 80:\n",
    "                letter_grade = \"B+\"\n",
    "            print(\"student name:\", name)\n",
    "            print(\"numeric grade:\", grade)\n",
    "            print(\"letter grade:\", letter_grade)\n",
    "\n",
    "            return \n",
    "    print(\"student not found\") # runs through entire students list if no match then print message. needs to be OUTSIDE of the loop itself (made that mistake)\n",
    "\n",
    "'''                      \n",
    "Notes:\n",
    "\n",
    "    In my previous code, I had the if statements evaluate the grade value, then print the letter grade. However, I returned to our in class exercises from week 3 and realized \n",
    "that I could create a new variable called letter_grade to store those values. I was trying to print the student name, numeric, and letter grades but could not get a clean output \n",
    "it printed the result like this:\n",
    "    \n",
    " A+ \n",
    " student name: \n",
    " numeric grade:\n",
    "     \n",
    "So I changed it to create the variable letter_grade but kept my original method as well to show multiple approaches. \n",
    "'''\n",
    "# %%\n",
    "# Question 3: Look up function\n",
    "\n",
    "gradeLookup(input(\"Enter student name: \")) # this input becomes the argument student_name in the gradeLookup function\n",
    "\n",
    "# %% \n"
   ]
  },
  {
   "cell_type": "markdown",
   "id": "42abe451",
   "metadata": {},
   "source": [
    "**Comments:**\n",
    "- Good. Does as expected. Although do you need the ``return`` there if your'e not returning anything? \n",
    "- Also, your function assumes the existence of _students_ and _grades_. Why not pass them as arguments?\n",
    "- Your code does check to see if the name is in the list but that's functionally equivalent to returning an error. How can you make sure that a name gets entered correctly? \n",
    " - code: 2/3, documentation: 3/3, **total: 5/6**"
   ]
  },
  {
   "cell_type": "markdown",
   "id": "a90071a5",
   "metadata": {},
   "source": [
    "**Question 4:** Write a Python class called PersonalityProfile that stores a participant’s scores on each of the Big Five traits (Openness, Conscientiousness, Agreeableness, Extraversion, Neuroticism) on a scale from 1–5.\n",
    "\n",
    "Your class should include:\n",
    "\n",
    "An \\_\\_init\\_\\_ method that initializes the five traits, as well as the participant number.\n",
    "\n",
    "A method _is_introvert()_ that returns True if the participant’s Extraversion score is less than 3, and False otherwise (feel free to make a similar method for all 5 traits).\n",
    "\n",
    "**Bonus:** Create a method called _summary()_ that returns a string describing the participant’s strongest trait (the one with the highest score).\n"
   ]
  },
  {
   "cell_type": "code",
   "execution_count": 25,
   "id": "1696cd0d",
   "metadata": {},
   "outputs": [
    {
     "name": "stdout",
     "output_type": "stream",
     "text": [
      "99 is an introvert: False\n",
      "extraversion score = 5\n",
      "100 is an introvert: True\n",
      "extraversion score = 1\n",
      "Participant: 99\n",
      "Strongest trait is Extraversion\n",
      "Highest Score = 5\n",
      "Participant: 100\n",
      "Strongest trait is Neuroticism\n",
      "Highest Score = 5\n"
     ]
    },
    {
     "data": {
      "text/plain": [
       "\"\\nOverall Notes:\\n    I am still struggling with the indentation rules, as I'm used to R where I can use pipes like |> to specify the order of functions.\\n    I found myself placing some of my code outside of my loops. As I get more experience I'm sure I'll be able to debug my code faster.\\n    I'm not used to printing my result to the console, I usually store my results into tables so I spent a lot of time trying different methods. \\n    \\n\""
      ]
     },
     "execution_count": 25,
     "metadata": {},
     "output_type": "execute_result"
    }
   ],
   "source": [
    "\n",
    "# Defintion of class\n",
    "class PersonalityProfile:\n",
    "    # Initalize the attributes of the class\n",
    "    def __init__(self, ID, Open, Cons, Agre, Extr, Neur): # I shortened these\n",
    "        self.ID = ID\n",
    "        self.Open = Open\n",
    "        self.Cons = Cons\n",
    "        self.Agre = Agre\n",
    "        self.Extr = Extr\n",
    "        self.Neur = Neur\n",
    "    \n",
    "    # Creating methods for scoring the traits\n",
    "    def is_introvert(self):\n",
    "        if self.Extr <= 3:\n",
    "            return True\n",
    "        else: \n",
    "            return False\n",
    "    \n",
    "    def is_open(self):\n",
    "        if self.Open >= 3:\n",
    "            return True\n",
    "        else:\n",
    "            return False\n",
    "        \n",
    "    def is_cons(self):\n",
    "        if self.Cons >= 3:\n",
    "            return True\n",
    "        else:\n",
    "            return False\n",
    "    \n",
    "    def is_agre(self):\n",
    "        if self.Agre >= 3:\n",
    "            return True\n",
    "        else:\n",
    "            return False\n",
    "    def is_neur(self):\n",
    "        if self.Neur >= 3:\n",
    "            return True\n",
    "        else:\n",
    "            return False\n",
    "        \n",
    "    # Creating a summary to identify which score is the highest\n",
    "    def summary(self):\n",
    "        \n",
    "        # Creating a list of the traits from the class attributes, skipping ID \n",
    "        scores = [self.Open, self.Cons, self.Agre, self.Extr, self.Neur] \n",
    "        \n",
    "        # max identifies the highest numeric score in the scores list\n",
    "        highest_score = max(scores)\n",
    "        \n",
    "        # evaluate if the highest score belongs to the score in that position\n",
    "        if highest_score == self.Open:\n",
    "            print(\"Strongest trait is Openness\")\n",
    "        elif highest_score == self.Cons:\n",
    "            print(\"Strongest trait is Conscientiousness\")\n",
    "        elif highest_score == self.Agre:\n",
    "            print(\"Strongest trait is Agreeableness\")\n",
    "        elif highest_score == self.Extr:\n",
    "            print(\"Strongest trait is Extraversion\")\n",
    "        elif highest_score == self.Neur:\n",
    "            print(\"Strongest trait is Neuroticism\")\n",
    "        \n",
    "        \n",
    "        return highest_score # I can't figure out how to have the return function not say \"none\" \n",
    "        \n",
    "'''\n",
    "I read through this documentation to get a better understanding of classes:\n",
    "    \n",
    "https://docs.python.org/3/tutorial/classes.html\n",
    "\n",
    "I spent awhile on this summary portion. I'm sure there is way more efficient ways to do this, but I could think a way to identify\n",
    "which score was the largest then using if statements to print which trait was the strongest.\n",
    "\n",
    "https://www.w3schools.com/python/ref_func_max.asp\n",
    "\n",
    "https://stackoverflow.com/questions/71753507/how-to-get-the-maximum-value-among-the-arguments-of-class-objects-in-python\n",
    "'''\n",
    "# %% Question 4: Creating some example data to show our class works\n",
    "\n",
    "# the arguments we provide are assigned to the attributes we listed in the class\n",
    "\n",
    "example1 = PersonalityProfile(\"99\", 4, 3, 1, 5, 2)\n",
    "\n",
    "# you can also directly specify the attribute and the value like this: \n",
    "example2 = PersonalityProfile(ID = \"100\", Open = 3, Cons = 4, Agre = 2, Extr = 1, Neur = 5)\n",
    "\n",
    "# if we type\n",
    "# PersonalityProfile(ID, Open, Cons, Agre, Extr, Neur) it shows the attributes within the class\n",
    "    \n",
    "# %% Question 4: Introversion method\n",
    "\n",
    "print(example1.ID, \"is an introvert:\", example1.is_introvert())\n",
    "print(\"extraversion score =\", example1.Extr)\n",
    "\n",
    "# %%\n",
    "print(example2.ID, \"is an introvert:\", example2.is_introvert())\n",
    "print(\"extraversion score =\", example2.Extr)\n",
    "\n",
    "# %% # Question 4: Summary Method\n",
    "\n",
    "print(\"Participant:\", example1.ID)\n",
    "print(\"Highest Score =\", example1.summary())\n",
    "\n",
    "# %%\n",
    "# another example that demonstrates that the summary works based on the position, now Neur is the strongest trait\n",
    "\n",
    "print(\"Participant:\", example2.ID)\n",
    "print(\"Highest Score =\", example2.summary())\n",
    "\n",
    "# %%\n",
    "'''\n",
    "Overall Notes:\n",
    "    I am still struggling with the indentation rules, as I'm used to R where I can use pipes like |> to specify the order of functions.\n",
    "    I found myself placing some of my code outside of my loops. As I get more experience I'm sure I'll be able to debug my code faster.\n",
    "    I'm not used to printing my result to the console, I usually store my results into tables so I spent a lot of time trying different methods. \n",
    "    \n",
    "'''"
   ]
  },
  {
   "cell_type": "code",
   "execution_count": 28,
   "id": "7bde7ed7",
   "metadata": {},
   "outputs": [
    {
     "name": "stdout",
     "output_type": "stream",
     "text": [
      "Strongest trait is Extraversion\n",
      "5\n"
     ]
    }
   ],
   "source": [
    "a = example1.summary()\n",
    "print(a)"
   ]
  },
  {
   "cell_type": "markdown",
   "id": "630b1698",
   "metadata": {},
   "source": [
    "**Comments:**\n",
    "- Good work. \n",
    "- if you want the highest_score variable to actually return, you need to return the method to a variable, like ``highScore = exmaple1.summary()``\n",
    "- Also, your method for returning the strongest trait won't return the highest if there are ties in scores, it will only return the first one\n",
    "- code: 4/4, documentation, 4/4, **bonus: + 1; total: 9/8**"
   ]
  },
  {
   "cell_type": "markdown",
   "id": "2a4c72e7",
   "metadata": {},
   "source": [
    "**Total grade: 41/42**"
   ]
  },
  {
   "cell_type": "code",
   "execution_count": null,
   "id": "053cab04",
   "metadata": {},
   "outputs": [],
   "source": []
  }
 ],
 "metadata": {
  "kernelspec": {
   "display_name": "Python 3",
   "language": "python",
   "name": "python3"
  },
  "language_info": {
   "codemirror_mode": {
    "name": "ipython",
    "version": 3
   },
   "file_extension": ".py",
   "mimetype": "text/x-python",
   "name": "python",
   "nbconvert_exporter": "python",
   "pygments_lexer": "ipython3",
   "version": "3.8.8"
  }
 },
 "nbformat": 4,
 "nbformat_minor": 5
}
